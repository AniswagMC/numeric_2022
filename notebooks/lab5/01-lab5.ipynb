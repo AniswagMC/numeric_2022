{
 "cells": [
  {
   "cell_type": "markdown",
   "metadata": {},
   "source": [
    "# Lab 5: Daisyworld"
   ]
  },
  {
   "cell_type": "markdown",
   "metadata": {},
   "source": [
    "## List of Problems\n",
    "\n",
    "\n",
    "[Problem Constant](#prob_constant): Daisyworld with a constant growth rate\n",
    "\n",
    "[Problem Coupling](#prob_coupling): Daisyworld of neutral daisies coupled to\n",
    "the temperature\n",
    "\n",
    "[Problem Conduction](#prob_conduction): Daisyworld steady states and the effect\n",
    "of the conduction parameter R\n",
    "\n",
    "[Problem Initial](#prob_initial): Daisyworld steady states and initial\n",
    "conditions\n",
    "\n",
    "[Problem Temperature](#prob_temperature): Add temperature retrieval code\n",
    "\n",
    "[Problem Estimate](#prob_estimate): Compare the error estimate to the true\n",
    "error\n",
    "\n",
    "[Problem tolerances](#prob_tolerances) User specified error tolerances in\n",
    "stepsize control\n",
    "\n",
    "[Problem Adaptive](#prob_adaptive): Adaptive Timestep Code\n",
    "\n",
    "[Problem Predators](#prob_predator): Adding predators to Daisyworld\n"
   ]
  },
  {
   "cell_type": "markdown",
   "metadata": {
    "lines_to_next_cell": 0
   },
   "source": [
    "## Assignment\n",
    "\n",
    "Upload a jupyter notebook  that solves the following problems -- if you\n",
    "want to import your own module code, include that with the notebook\n",
    "in a zipfile\n",
    "\n",
    "\n",
    "Undergrads:  Upload a notebook (and, if you modify library files, include that)\n",
    "* A409: do Problems 1 (constant), 2 (coupling), 4 (initial), 5 (temperature), 6 (estimate)\n",
    "* E511: do Problems 1 (constant), 2 (coupling), 4 (initial), 5 (temperature), 6 (estimate),  8 (adaptive), 9 (predators)\n"
   ]
  },
  {
   "cell_type": "markdown",
   "metadata": {},
   "source": [
    "<a name=\"sec_objectives\"></a>\n",
    "\n",
    "## Objectives\n",
    "\n",
    "In this lab, you will explore a simple environmental model,\n",
    "<span>*Daisyworld*</span>, with the help of a Runge-Kutta method with\n",
    "adaptive stepsize control.\n",
    "\n",
    "The goal is for you to gain some experience using a Runge-Kutta\n",
    "integrator and to see the advantages of applying error control to the\n",
    "algorithm. As well, you will discover the the possible insights one can\n",
    "garner from the study of numerical solutions of a physical model.\n",
    "\n",
    "In particular you will be able to:\n",
    "\n",
    "-   explain how the daisies affect the climate in the daisy world model\n",
    "\n",
    "-   define adaptive step-size model\n",
    "\n",
    "-   explain for what reasons an adaptive step-size model maybe faster\n",
    "    for given accuracy\n",
    "\n",
    "-   explain why white daisies (alone) can survive at a higher solar\n",
    "    constant than black daisies\n",
    "\n",
    "-   define hysteresis"
   ]
  },
  {
   "cell_type": "markdown",
   "metadata": {},
   "source": [
    "<a name=\"sec_readings\"></a>\n",
    "\n",
    "## Readings\n",
    "\n",
    "There is no required reading for this lab, beyond the contents of the\n",
    "lab itself. However, if you would like additional background on any of\n",
    "the following topics, then refer to the sections indicated below:\n",
    "\n",
    "-   **Daisy World:**\n",
    "\n",
    "    -   The original article by [Watson and Lovelock, 1983](http://ezproxy.library.ubc.ca/login?url=http://onlinelibrary.wiley.com/enhanced/doi/10.1111/j.1600-0889.1983.tb00031.x) which derive the equations used here.\n",
    "\n",
    "    -   A 2008 Reviews of Geophysics article by [Wood et al.](http://ezproxy.library.ubc.ca/login?url=http://doi.wiley.com/10.1029/2006RG000217) with more recent developments (species competition, etc.)\n",
    "\n",
    "-   **Runge-Kutta Methods with Adaptive Stepsize Control:**\n",
    "\n",
    "    -   Newman, Section 8.4\n",
    "\n",
    "    -   Press, et al. Section 16.2: these are equations we implemented in Python,\n",
    "        [scanned pdf here](adapt_ode.pdf)\n",
    "\n",
    "    -   Burden & Faires Section 5.5"
   ]
  },
  {
   "cell_type": "markdown",
   "metadata": {},
   "source": [
    "<a name=\"sec_daisyworld\"></a>\n",
    "\n",
    "## Introduction\n",
    "\n",
    "It is obvious that life on earth is highly sensitive to the planet’s\n",
    "atmospheric and climatic conditions. What is less obvious, but of great\n",
    "interest, is the role biology plays in the sensitivity of the climate.\n",
    "This is dramatically illustrated by the concern over the possible\n",
    "contribution to global warming by the loss of the rain forests in\n",
    "Brazil.\n",
    "\n",
    "The fact that each may affect the other implies that the climate and\n",
    "life on earth are interlocked in a complex series of feedbacks, i.e. the\n",
    "climate affects the biosphere which, when altered, then changes the\n",
    "climate and so on. A fascinating question arises as to whether or not\n",
    "this would eventually lead to a stable climate. This scenerio is\n",
    "exploited to its fullest in the <span>*Gaia*</span> hypothesis which\n",
    "postulates that the biosphere, atmosphere, ocean and land are all part\n",
    "of some totality, dubbed <span>*Gaia*</span>, which is essentially an\n",
    "elaborate feedback system which optimizes the conditions of life here on\n",
    "earth.\n",
    "\n",
    "It would be hopeless to attempt to mathematically model such a large,\n",
    "complex system. What can be done instead is to construct a ’toy model’\n",
    "of the system in which much of the complexity has been stripped away and\n",
    "only some of the relevant characteristics retained. The resulting system\n",
    "will then be tractable but, unfortunately, may bear little connection\n",
    "with the original physical system.\n",
    "\n",
    "Daisyworld is such a model. Life on Daisyworld has been reduced to just\n",
    "two species of daisies of different colors. The only environmental\n",
    "condition that affects the daisy growth rate is temperature. The\n",
    "temperature in turn is modified by the varying amounts of radiation\n",
    "absorbed by the daisies.\n",
    "\n",
    "Daisyworld is obviously a gross simplification of the real earth.\n",
    "However, it does retain the central feature of interest: a feedback loop\n",
    "between the climate and life on the planet. Since the equations\n",
    "governing the system will be correspondingly simplified, it will allow\n",
    "us to investigate under what conditions, if any, that equilibrium is\n",
    "reached. The hope is that this will then gain us some insight into how\n",
    "life on the real earth may lead to a stable climate."
   ]
  },
  {
   "cell_type": "markdown",
   "metadata": {},
   "source": [
    "<a name=\"sec_model\"></a>\n",
    "\n",
    "## The Daisyworld Model\n",
    "\n",
    "Daisyworld is populated by two types of daisies, one darker and the\n",
    "other lighter than the bare ground. As with life on earth, the daisies\n",
    "will not grow at extreme temperatures and will have optimum growth at\n",
    "moderate temperatures.\n",
    "\n",
    "The darker, ’black’ daisies absorb more radiation than the lighter,\n",
    "’white’ daisies. If the black daisy population grows and spreads over\n",
    "more area, an increased amount of solar energy will be absorbed, which\n",
    "will ultimately raise the temperature of the planet. Conversely, an\n",
    "increase in the white daisy population will result in more radiation\n",
    "being reflected away, lowering the planet’s temperature.\n",
    "\n",
    "The question to be answered is:\n",
    "\n",
    "**Under what conditions, if any, will the daisy population and\n",
    " temperature reach equilibrium?**"
   ]
  },
  {
   "cell_type": "markdown",
   "metadata": {},
   "source": [
    "\n",
    "<a name=\"sec_population\"></a>\n",
    "\n",
    "### The Daisy Population\n",
    "\n",
    "The daisy population will be modeled along the lines of standard\n",
    "population ecology models where the net growth depends upon the current\n",
    "population. For example, the simplest model assumes the rate of growth\n",
    "is proportional to the population, i.e.\n",
    "\n",
    "<!-- \\label{lab5:eq:exp} -->\n",
    "\n",
    "$$\n",
    "\\frac{dA_w}{dt} = k_w A_w\n",
    "$$\n",
    "\n",
    "$$\n",
    "\\frac{dA_b}{dt} = k_b A_b\n",
    "$$\n",
    "\n",
    "where $A_w$\n",
    "and $A_b$ are fractions of the total planetary area covered by the white\n",
    "and black daisies, respectively, and $k_i$, $i=w,b$, are the white and\n",
    "black daisy growth rates per unit time, respectively. If assume the the\n",
    "growth rates $k_i$ are (positive) constants we would have exponential\n",
    "growth like the bunny rabbits of lore.\n",
    "\n",
    "We can make the model more realistic by letting the daisy birthrate\n",
    "depend on the amount of available land, i.e. $$k_i = \\beta_i x$$ where\n",
    "$\\beta_i$ are the white and black daisy growth rates per unit time and\n",
    "area, respectively, and $x$ is the fractional area of free fertile\n",
    "ground not colonized by either species. We can also add a daisy death\n",
    "rate per unit time, $\\chi$, to get\n",
    "\n",
    "<!-- \\label{lab5:eq:model} -->\n",
    "\\textbf{eq: constantgrowth}\n",
    "$$\n",
    "\\frac{dA_w}{dt} = A_w ( \\beta_w x - \\chi)\n",
    "$$\n",
    "\n",
    "\n",
    "$$\n",
    "\\frac{dA_b}{dt} = A_b ( \\beta_b x - \\chi)\n",
    "$$\n",
    "\n",
    "However, even these small modifications are non-trivial mathematically\n",
    "as the available fertile land is given by,\n",
    "$$\n",
    "  x = 1 - A_w - A_b\n",
    "$$\n",
    "\n",
    "(assuming all the land mass is fertile) which\n",
    "makes the equations non-linear."
   ]
  },
  {
   "cell_type": "markdown",
   "metadata": {},
   "source": [
    "<div id=\"prob_constant\">** Problem constant growth**</div>\n",
    "\n",
    "\n",
    "<!-- [lab5:prob:constant] -->\n",
    "\n",
    "Note that though the daisy growth rate per unit\n",
    "time depends on the amount of available fertile land, it is not\n",
    "otherwise coupled to the environment (i.e. $\\beta_i$ is note a function\n",
    "of temperature. Making the growth a function of bare ground, however,\n",
    "keeps the daisy population bounded and the daisy population will\n",
    "eventually reach some steady state.  The next python cell has a script\n",
    "that runs a fixed timestep Runge Kutte routine that calculates area\n",
    "coverage of white and black daisies for fixed growth rates $\\beta_w$ and $\\beta_b$.\n",
    "Try changing these growth rates (specified in the derivs5 routine) and\n",
    "the initial white and black concentrations (specified in the fixed_growth.yaml file\n",
    "discussed next).\n",
    "\n",
    "1.  For a given set of growth rates try various (non-zero) initial daisy\n",
    "    populations.\n",
    "\n",
    "2.  For a given set of initial conditions try various growth rates. In\n",
    "    particular, try rates that are both greater than and less than the\n",
    "    death rate.\n",
    "\n",
    "3.  Can you determine when non-zero steady states are achieved? Explain.\n"
   ]
  },
  {
   "cell_type": "markdown",
   "metadata": {},
   "source": [
    "<a name=\"sec_growth\"></a>\n",
    "\n",
    "### Running the constant growth rate demo\n",
    "\n",
    "In the appendix we discuss the design of the integrator class and the adaptive Runge-Kutta\n",
    "routine.  For this demo, we need to be able to change variables in the configuration\n",
    "file.  For this demonstration you are asked to\n",
    "\n",
    "1.  Change the inital white and black daisy concentrations by changing these lines in the\n",
    "    [fixed_growth.yaml](https://github.com/rhwhite/numeric_2022/blob/main/notebooks/lab5/fixed_growth.yaml#L13-L15) input file:\n",
    "\n",
    "    ```yaml\n",
    "\n",
    "       initvars:\n",
    "          whiteconc: 0.2\n",
    "          blackconc: 0.7\n",
    "    ```\n",
    "\n",
    "2.  Change the white and black daisy growth rates by editing the variables\n",
    "    beta_w and beta_b in the derivs5 routine in the next cell\n",
    "\n",
    "The Integrator class contains two different timeloops, both of which use embedded Runge Kutta Cash Carp\n",
    "code given in Lab 4 and code here as [rkckODE5](https://github.com/rhwhite/numeric_2022/blob/numlabs/lab5/lab5_funs.py#L70).  The simplest way to loop through the timesteps is just to call the\n",
    "integrator with a specified set of times.  This is done in [timeloop5fixed](https://github.com/rhwhite/numeric_2022/blob/numlabs/lab5/lab5_funs.py#L244).  Below we will describe how to use the error extimates returned\n",
    "by rkckODE5 to tune the size of the timesteps,\n",
    "which is done in [timeloop5Err](https://github.com/rhwhite/numeric_2022/blob/numlabs/lab5/lab5_funs.py#L244)."
   ]
  },
  {
   "cell_type": "code",
   "execution_count": 9,
   "metadata": {},
   "outputs": [
    {
     "name": "stdout",
     "output_type": "stream",
     "text": [
      "******************************\n",
      "context imported. Front of path:\n",
      "/media/doug/warehouse/EOAS-teaching/numeric-refactor\n",
      "back of path: /home/doug/.ipython\n",
      "******************************\n",
      "\n",
      "through /media/doug/warehouse/EOAS-teaching/numeric-refactor/notebooks/lab5/context.py\n"
     ]
    },
    {
     "data": {
      "image/png": "[encoded data removed]",
      "text/plain": [
       "<Figure size 432x288 with 1 Axes>"
      ]
     },
     "metadata": {
      "needs_background": "light"
     },
     "output_type": "display_data"
    },
    {
     "data": {
      "image/png": "[encoded data removed]",
      "text/plain": [
       "<Figure size 432x288 with 1 Axes>"
      ]
     },
     "metadata": {
      "needs_background": "light"
     },
     "output_type": "display_data"
    }
   ],
   "source": [
    "#\n",
    "# 4.1  integrate constant growth rates with fixed timesteps\n",
    "#\n",
    "import context\n",
    "from numlabs.lab5.lab5_funs import Integrator\n",
    "from collections import namedtuple\n",
    "import numpy as np\n",
    "import matplotlib.pyplot as plt\n",
    "\n",
    "\n",
    "class Integ51(Integrator):\n",
    "    def set_yinit(self):\n",
    "        #\n",
    "        # read in 'albedo_white chi S0 L albedo_black R albedo_ground'\n",
    "        #\n",
    "        uservars = namedtuple('uservars', self.config['uservars'].keys())\n",
    "        self.uservars = uservars(**self.config['uservars'])\n",
    "        #\n",
    "        # read in 'whiteconc blackconc'\n",
    "        #\n",
    "        initvars = namedtuple('initvars', self.config['initvars'].keys())\n",
    "        self.initvars = initvars(**self.config['initvars'])\n",
    "        self.yinit = np.array(\n",
    "            [self.initvars.whiteconc, self.initvars.blackconc])\n",
    "        self.nvars = len(self.yinit)\n",
    "        return None\n",
    "\n",
    "    #\n",
    "    # Construct an Integ51 class by inheriting first intializing\n",
    "    # the parent Integrator class (called super).  Then do the extra\n",
    "    # initialization in the set_yint function\n",
    "    #\n",
    "    def __init__(self, coeffFileName):\n",
    "        super().__init__(coeffFileName)\n",
    "        self.set_yinit()\n",
    "\n",
    "    def derivs5(self, y, t):\n",
    "        \"\"\"y[0]=fraction white daisies\n",
    "           y[1]=fraction black daisies\n",
    "           \n",
    "           Constant growty rates for white\n",
    "           and black daisies beta_w and beta_b\n",
    "           \n",
    "           returns dy/dt\n",
    "        \"\"\"\n",
    "        user = self.uservars\n",
    "        #\n",
    "        # bare ground\n",
    "        #\n",
    "        x = 1.0 - y[0] - y[1]\n",
    "\n",
    "        # growth rates don't depend on temperature\n",
    "        beta_b = 0.7  # growth rate for black daisies\n",
    "        beta_w = 0.7  # growth rate for white daisies\n",
    "\n",
    "        # create a 1 x 2 element vector to hold the derivitive\n",
    "        f = np.empty([self.nvars], 'float')\n",
    "        f[0] = y[0] * (beta_w * x - user.chi)\n",
    "        f[1] = y[1] * (beta_b * x - user.chi)\n",
    "        return f\n",
    "\n",
    "\n",
    "theSolver = Integ51('fixed_growth.yaml')\n",
    "timeVals, yVals, errorList = theSolver.timeloop5fixed()\n",
    "\n",
    "plt.close('all')\n",
    "thefig, theAx = plt.subplots(1, 1)\n",
    "theLines = theAx.plot(timeVals, yVals)\n",
    "theLines[0].set_marker('+')\n",
    "theLines[1].set_linestyle('--')\n",
    "theLines[1].set_color('k')\n",
    "theLines[1].set_marker('*')\n",
    "theAx.set_title('lab 5 interactive 1  constant growth rate')\n",
    "theAx.set_xlabel('time')\n",
    "theAx.set_ylabel('fractional coverage')\n",
    "theAx.legend(theLines, ('white daisies', 'black daisies'), loc='best')\n",
    "\n",
    "thefig, theAx = plt.subplots(1, 1)\n",
    "theLines = theAx.plot(timeVals, errorList)\n",
    "theLines[0].set_marker('+')\n",
    "theLines[1].set_linestyle('--')\n",
    "theLines[1].set_color('k')\n",
    "theLines[1].set_marker('*')\n",
    "theAx.set_title('lab 5 interactive 1 errors')\n",
    "theAx.set_xlabel('time')\n",
    "theAx.set_ylabel('error')\n",
    "out = theAx.legend(theLines, ('white errors', 'black errors'), loc='best')"
   ]
  },
  {
   "cell_type": "markdown",
   "metadata": {},
   "source": [
    "<a name=\"sec_coupling\"></a>\n",
    "\n",
    "### The Daisy Growth Rate - Coupling to the Environment\n",
    "\n",
    "We now want to couple the Daisy growth rate to the climate, which we do\n",
    "by making the growth rate a function of the local temperature $T_i$,\n",
    "$$\\beta_i = \\beta_i(T_i)$$\n",
    "The growth rate should drop to zero at\n",
    "extreme temperatures and be optimal at moderate temperatures. In\n",
    "Daisyworld this means the daisy population ceases to grow if the\n",
    "temperature drops below $5^o$C or goes above $40^o $C. The simplest\n",
    "model for the growth rate would then be parabolic function of\n",
    "temperature, lpeaking at $22.5^o$C:\n",
    "\n",
    "<!-- \\label{lab5:eq:beta_i} -->\n",
    "$$\\beta_i = 1.0 - 0.003265(295.5 K - T_i)^2$$\n",
    "where the $i$ subscript denotes the type of daisy: grey (i=y), white (i=w) or black (i=b).\n",
    "(We're reserving $\\alpha_g$ for the bare ground albedo)"
   ]
  },
  {
   "cell_type": "markdown",
   "metadata": {},
   "source": [
    "<img src=\"images/beta.png\" width=\"40%\">"
   ]
  },
  {
   "cell_type": "markdown",
   "metadata": {},
   "source": [
    "Before specifying the local temperature, and its dependence on the daisy\n",
    "population, first consider the emission temperature $T_e$, which is the\n",
    "mean temperature of the planet,\n",
    "\n",
    "<!-- \\label{lab5:eq:tempe} -->\n",
    "\n",
    "$$   T^4_e = L \\frac{S_0}{4\\sigma}(1-\\alpha_p)$$\n",
    "\n",
    "where $S_0$ is a solar\n",
    "flux density constant, $L$ is the fraction of $S_0$ received at\n",
    "Daisyworld, and $\\alpha_p$ is the planetary albedo. The greater the\n",
    "planetary albedo $\\alpha_p$, i.e. the more solar radiation the planet\n",
    "reflects, the lower the emission temperature.\n",
    "\n",
    "**Mathematical note**: The emission temperature is derived on the assumption that the planet is\n",
    "in global energy balance and is behaving as a blackbody radiator. See\n",
    "the appendix for more information."
   ]
  },
  {
   "cell_type": "markdown",
   "metadata": {},
   "source": [
    "<div id=\"prob_coupling\">**Problem Coupling**</div>\n",
    "\n",
    "Consider daisies with the same albedo as the\n",
    "planet, i.e. ’grey’ or neutral daisies, as specified in derivs5 routine\n",
    "below.\n",
    "\n",
    "1.  For the current value of L (0.2) in the file coupling.yaml,\n",
    "    the final daisy steady state is zero.\n",
    "    Why is it zero?\n",
    "\n",
    "2.  Find a value of L which leads to a non-zero steady state.\n",
    "\n",
    "3.  What happens to the emission temperature as L is varied?  Make a plot of\n",
    "    $L$ vs. $T_E$ for 10-15 values of $L$.  To do this, I  overrode\n",
    "    the value of L from the init file by passing a new value into\n",
    "    the IntegCoupling constructor (see [Appendix A](#sec_override)).\n",
    "    This allowed me to put\n",
    "\n",
    "    ```python\n",
    "    theSolver = IntegCoupling(\"coupling.yaml\",newL)\n",
    "    timeVals, yVals, errorList = theSolver.timeloop5fixed()\n",
    "    ```\n",
    "\n",
    "    inside a loop that varied the L value and saved the steady state concentration\n",
    "    for plotting\n",
    "\n",
    "After reading the the next section on the local\n",
    "temperature,\n",
    "\n",
    "4.  Do you see any difference between the daisy temperature and emission\n",
    "    temperature? Plot both and explain.  (Hint: I modified derivs5 to save\n",
    "    these variables to self so I could compare their values at the end\n",
    "    of the simulation.  You could also override timeloop5fixed to do the same\n",
    "    thing at each timestep.)\n",
    "\n",
    "5.  How (i.e. thorugh what mechanism) does the makeup of the  global daisy population\n",
    "    affect the local temperature?\n",
    "\n",
    "Hand in -- notebook cells with the code, plots and your answers."
   ]
  },
  {
   "cell_type": "code",
   "execution_count": 10,
   "metadata": {},
   "outputs": [],
   "source": [
    "import matplotlib.pyplot as plt\n",
    "\n",
    "\n",
    "class IntegCoupling(Integrator):\n",
    "    \"\"\"rewrite the init and derivs5 methods to\n",
    "       work with a single (grey) daisy\n",
    "    \"\"\"\n",
    "    def set_yinit(self):\n",
    "        #\n",
    "        # read in 'albedo_grey chi S0 L  R albedo_ground'\n",
    "        #\n",
    "        uservars = namedtuple('uservars', self.config['uservars'].keys())\n",
    "        self.uservars = uservars(**self.config['uservars'])\n",
    "        #\n",
    "        # read in 'greyconc'\n",
    "        #\n",
    "        initvars = namedtuple('initvars', self.config['initvars'].keys())\n",
    "        self.initvars = initvars(**self.config['initvars'])\n",
    "        self.yinit = np.array([self.initvars.greyconc])\n",
    "        self.nvars = len(self.yinit)\n",
    "        return None\n",
    "\n",
    "    def __init__(self, coeffFileName):\n",
    "        super().__init__(coeffFileName)\n",
    "        self.set_yinit()\n",
    "\n",
    "    def derivs5(self, y, t):\n",
    "        \"\"\"\n",
    "           Make the growth rate depend on the ground temperature\n",
    "           using the quadratic function of temperature\n",
    "\n",
    "           y[0]=fraction grey daisies\n",
    "           t = time\n",
    "           returns f[0] = dy/dt\n",
    "        \"\"\"\n",
    "        sigma = 5.67e-8  # Stefan Boltzman constant W/m^2/K^4\n",
    "        user = self.uservars\n",
    "        x = 1.0 - y[0]\n",
    "        albedo_p = x * user.albedo_ground + y[0] * user.albedo_grey\n",
    "        Te_4 = user.S0 / 4.0 * user.L * (1.0 - albedo_p) / sigma\n",
    "        eta = user.R * user.L * user.S0 / (4.0 * sigma)\n",
    "        temp_y = (eta * (albedo_p - user.albedo_grey) + Te_4)**0.25\n",
    "        if (temp_y >= 277.5 and temp_y <= 312.5):\n",
    "            beta_y = 1.0 - 0.003265 * (295.0 - temp_y)**2.0\n",
    "        else:\n",
    "            beta_y = 0.0\n",
    "\n",
    "        # create a 1 x 1 element vector to hold the derivative\n",
    "        f = np.empty([self.nvars], np.float64)\n",
    "        f[0] = y[0] * (beta_y * x - user.chi)\n",
    "        return f"
   ]
  },
  {
   "cell_type": "code",
   "execution_count": 11,
   "metadata": {},
   "outputs": [
    {
     "data": {
      "image/png": "[encoded data removed]",
      "text/plain": [
       "<Figure size 432x288 with 1 Axes>"
      ]
     },
     "metadata": {
      "needs_background": "light"
     },
     "output_type": "display_data"
    }
   ],
   "source": [
    "import matplotlib.pyplot as plt\n",
    "\n",
    "theSolver = IntegCoupling('coupling.yaml')\n",
    "timeVals, yVals, errorList = theSolver.timeloop5fixed()\n",
    "\n",
    "thefig, theAx = plt.subplots(1, 1)\n",
    "theLines = theAx.plot(timeVals, yVals)\n",
    "theAx.set_title('lab 5: interactive 2 Coupling with grey daisies')\n",
    "theAx.set_xlabel('time')\n",
    "theAx.set_ylabel('fractional coverage')\n",
    "out = theAx.legend(theLines, ('grey daisies', ), loc='best')"
   ]
  },
  {
   "cell_type": "markdown",
   "metadata": {},
   "source": [
    "<a name=\"sec_conductivity\"></a>\n",
    "\n",
    "## The Local Temperature - Dependence on Surface Heat Conductivity\n",
    "\n",
    "If we now allow for black and white daisies, the local temperature will\n",
    "differ according to the albedo of the region. The regions with white\n",
    "daisies will tend to be cooler than the ground and the regions with\n",
    "black daisies will tend to be hotter. To determine what the temperature\n",
    "is locally, we need to decide how readily the planet surface\n",
    "thermalises, i.e. how easily large-scale weather patterns redistributes\n",
    "the surface heat.\n",
    "\n",
    "-   If there is perfect heat ‘conduction’ between the different regions\n",
    "    of the planet then the local temperature will equal the mean\n",
    "    temperature given by the emission temperature $T_e$.\n",
    "\n",
    "    <!-- \\label{lab5:eq:temp0} -->\n",
    "    $$\n",
    "       T^4_i \\equiv T^4_e = L \\frac{S_0}{4\\sigma}(1-\\alpha_p)\n",
    "     $$\n",
    "\n",
    "-   If there is no conduction, or perfect ‘insulation’, between regions\n",
    "    then the temperature will be the emission temperature due to the\n",
    "    albedo of the local region.\n",
    "\n",
    "    <!-- \\label{lab5:eq:temp1} -->\n",
    "    $$\n",
    "       T^4_i= L \\frac{S_0}{4\\sigma}(1-\\alpha_i)\n",
    "    $$\n",
    "where $\\alpha_i$ indicates either $\\alpha_g$, $\\alpha_w$ or $\\alpha_b$.\n",
    "\n",
    "The local temperature can be chosen to lie between these two values,\n",
    "\n",
    "<!-- \\label{lab5:eq:tempi} -->\n",
    "\n",
    "$$\n",
    "  T^4_i = R L \\frac{S_0}{4\\sigma}(\\alpha_p-\\alpha_i) + T^4_e\n",
    "$$\n",
    "\n",
    "where $R$\n",
    "is a parameter that interpolates between the two extreme cases i.e.\n",
    "$R=0$ means perfect conduction and $R=1$ implies perfect insulation\n",
    "between regions.\n",
    "\n",
    "<div id=\"prob_conduction\">**Problem Conduction**</a>\n",
    "\n",
    "The conduction parameter R will determine the\n",
    "temperature differential between the bare ground and the regions with\n",
    "black or white daisies.  The code in the next cell specifies the derivatives\n",
    "for this situation, removing the feedback between the daisies and the\n",
    "planetary albedo but introducint conduction. Use it to investigate these two questions:\n",
    "\n",
    "1.  Change the value of R and observe the effects on the daisy and\n",
    "    emission temperature.\n",
    "\n",
    "2.  What are the effects on the daisy growth rate and the final steady\n",
    "    states?"
   ]
  },
  {
   "cell_type": "code",
   "execution_count": 12,
   "metadata": {},
   "outputs": [],
   "source": [
    "#\n",
    "# 5.2  keep the albedo constant at alpha_p and vary the conductivity R\n",
    "#\n",
    "from numlabs.lab5.lab5_funs import Integrator\n",
    "\n",
    "\n",
    "class Integ53(Integrator):\n",
    "    def set_yinit(self):\n",
    "        #\n",
    "        # read in 'albedo_white chi S0 L albedo_black R albedo_ground'\n",
    "        #\n",
    "        uservars = namedtuple('uservars', self.config['uservars'].keys())\n",
    "        self.uservars = uservars(**self.config['uservars'])\n",
    "        #\n",
    "        # read in 'whiteconc blackconc'\n",
    "        #\n",
    "        initvars = namedtuple('initvars', self.config['initvars'].keys())\n",
    "        self.initvars = initvars(**self.config['initvars'])\n",
    "        self.yinit = np.array(\n",
    "            [self.initvars.whiteconc, self.initvars.blackconc])\n",
    "        self.nvars = len(self.yinit)\n",
    "        return None\n",
    "\n",
    "    def __init__(self, coeffFileName):\n",
    "        super().__init__(coeffFileName)\n",
    "        self.set_yinit()\n",
    "\n",
    "    def derivs5(self, y, t):\n",
    "        \"\"\"y[0]=fraction white daisies\n",
    "           y[1]=fraction black daisies\n",
    "           no feedback between daisies and\n",
    "           albedo_p (set to ground albedo)\n",
    "        \"\"\"\n",
    "        sigma = 5.67e-8  # Stefan Boltzman constant W/m^2/K^4\n",
    "        user = self.uservars\n",
    "        x = 1.0 - y[0] - y[1]\n",
    "        #\n",
    "        # hard wire the albedo to that of the ground -- no daisy feedback\n",
    "        #\n",
    "        albedo_p = user.albedo_ground\n",
    "        Te_4 = user.S0 / 4.0 * user.L * (1.0 - albedo_p) / sigma\n",
    "        eta = user.R * user.L * user.S0 / (4.0 * sigma)\n",
    "        temp_b = (eta * (albedo_p - user.albedo_black) + Te_4)**0.25\n",
    "        temp_w = (eta * (albedo_p - user.albedo_white) + Te_4)**0.25\n",
    "\n",
    "        if (temp_b >= 277.5 and temp_b <= 312.5):\n",
    "            beta_b = 1.0 - 0.003265 * (295.0 - temp_b)**2.0\n",
    "        else:\n",
    "            beta_b = 0.0\n",
    "\n",
    "        if (temp_w >= 277.5 and temp_w <= 312.5):\n",
    "            beta_w = 1.0 - 0.003265 * (295.0 - temp_w)**2.0\n",
    "        else:\n",
    "            beta_w = 0.0\n",
    "\n",
    "        # create a 1 x 2 element vector to hold the derivitive\n",
    "        f = np.empty([self.nvars], 'float')\n",
    "        f[0] = y[0] * (beta_w * x - user.chi)\n",
    "        f[1] = y[1] * (beta_b * x - user.chi)\n",
    "        return f"
   ]
  },
  {
   "cell_type": "code",
   "execution_count": 13,
   "metadata": {},
   "outputs": [
    {
     "data": {
      "image/png": "[encoded data removed]",
      "text/plain": [
       "<Figure size 432x288 with 1 Axes>"
      ]
     },
     "metadata": {
      "needs_background": "light"
     },
     "output_type": "display_data"
    }
   ],
   "source": [
    "import matplotlib.pyplot as plt\n",
    "\n",
    "theSolver = Integ53('conduction.yaml')\n",
    "timeVals, yVals, errorList = theSolver.timeloop5fixed()\n",
    "\n",
    "plt.close('all')\n",
    "thefig, theAx = plt.subplots(1, 1)\n",
    "theLines = theAx.plot(timeVals, yVals)\n",
    "theLines[1].set_linestyle('--')\n",
    "theLines[1].set_color('k')\n",
    "theAx.set_title('lab 5 interactive 3 -- conduction problem')\n",
    "theAx.set_xlabel('time')\n",
    "theAx.set_ylabel('fractional coverage')\n",
    "out = theAx.legend(theLines, ('white daisies', 'black daisies'),\n",
    "                   loc='center right')"
   ]
  },
  {
   "cell_type": "markdown",
   "metadata": {},
   "source": [
    "<a name=\"sec_feedback\"></a>\n",
    "\n",
    "## The Feedback Loop - Feedback Through the Planetary Albedo\n",
    "\n",
    "The amount of solar radiation the planet reflects will depend on the\n",
    "daisy population since the white daisies will reflect more radiation\n",
    "than the bare ground and the black daisies will reflect less. So a\n",
    "reasonable estimate of the planetary albedo $\\alpha_p$ is an average of\n",
    "the albedo’s of the white and black daisies and the bare ground,\n",
    "weighted by the amount of area covered by each, i.e.\n",
    "\n",
    "<!-- \\label{lab5:eq:albedop} -->\n",
    "\n",
    "$$\n",
    "  \\alpha_p = A_w\\alpha_w + A_b\\alpha_b + A_g\\alpha_g\n",
    "$$\n",
    "\n",
    "A greater\n",
    "population of white daisies will tend to increase planetary albedo and\n",
    "decrease the emission temperature, as is apparent from equation\n",
    "([lab5:eq:tempe]), while the reverse is true for the black daisies.\n",
    "\n",
    "To summarize: The daisy population is controlled by its growth rate\n",
    "$\\beta_i$  which is a function of the local\n",
    "temperature $T_i$ $$\\beta_i = 1.0 - 0.003265(295.5 K -T_i)^2$$ If the\n",
    "conductivity $R$ is nonzero, the local temperature is a function of\n",
    "planetary albedo $\\alpha_p$\n",
    "\n",
    "$$T_i = \\left[ R L \\frac{S_0}{4\\sigma}(\\alpha_p-\\alpha_i)\n",
    "  + T^4_e \\right]^{\\frac{1}{4}}$$\n",
    "\n",
    "which is determined by the daisy\n",
    "population.\n",
    "\n",
    "-   Physically, this provides the feedback from the daisy population\n",
    "    back to the temperature, completing the loop between the daisies and\n",
    "    temperature.\n",
    "\n",
    "-   Mathematically, this introduces a rather nasty non-linearity into\n",
    "    the equations which, as pointed out in the lab 1, usually makes it\n",
    "    difficult, if not impossible, to obtain exact analytic solutions."
   ]
  },
  {
   "cell_type": "markdown",
   "metadata": {},
   "source": [
    "<div id=\"prob_initial\">**Problem initial**</div>\n",
    "\n",
    "The feedback means a stable daisy population (a\n",
    "steady state) and the environmental conditions are in a delicate\n",
    "balance. The code below produces a steady state which arises from a given initial daisy\n",
    "population,\n",
    "\n",
    "1.  Add a small initial fraction of black daisies (say, 0.01) to the\n",
    "    value in initial.yaml and see\n",
    "    what effect this has on the temperature and final daisy populations.\n",
    "    Do you still have a final non-zero daisy population?\n",
    "\n",
    "2.  Attempt to adjust the initial white daisy population to obtain a\n",
    "    non-zero steady state. Do you have to increase or decrease the\n",
    "    initial fraction? What is your explanation for this behavior?\n",
    "\n",
    "3.  Experiment with other initial fractions of daisies and look for\n",
    "    non-zero steady states."
   ]
  },
  {
   "cell_type": "code",
   "execution_count": 14,
   "metadata": {},
   "outputs": [],
   "source": [
    "from numlabs.lab5.lab5_funs import Integrator\n",
    "\n",
    "\n",
    "class Integ54(Integrator):\n",
    "    def set_yinit(self):\n",
    "        #\n",
    "        # read in 'albedo_white chi S0 L albedo_black R albedo_ground'\n",
    "        #\n",
    "        uservars = namedtuple('uservars', self.config['uservars'].keys())\n",
    "        self.uservars = uservars(**self.config['uservars'])\n",
    "        #\n",
    "        # read in 'whiteconc blackconc'\n",
    "        #\n",
    "        initvars = namedtuple('initvars', self.config['initvars'].keys())\n",
    "        self.initvars = initvars(**self.config['initvars'])\n",
    "        self.yinit = np.array(\n",
    "            [self.initvars.whiteconc, self.initvars.blackconc])\n",
    "        self.nvars = len(self.yinit)\n",
    "        return None\n",
    "\n",
    "    def __init__(self, coeff_file_name):\n",
    "        super().__init__(coeff_file_name)\n",
    "        self.set_yinit()\n",
    "\n",
    "    def find_temp(self, yvals):\n",
    "        \"\"\"\n",
    "            Calculate the temperatures over the white and black daisies\n",
    "            and the planetary equilibrium temperature given the daisy fractions\n",
    "            \n",
    "            input:  yvals -- array of dimension [2] with the white [0] and black [1]\n",
    "                    daisy fractiion\n",
    "            output:  white temperature (K), black temperature (K), equilibrium temperature (K)\n",
    "        \"\"\"\n",
    "        sigma = 5.67e-8  # Stefan Boltzman constant W/m^2/K^4\n",
    "        user = self.uservars\n",
    "        bare = 1.0 - yvals[0] - yvals[1]\n",
    "        albedo_p = bare * user.albedo_ground + \\\n",
    "            yvals[0] * user.albedo_white + yvals[1] * user.albedo_black\n",
    "        Te_4 = user.S0 / 4.0 * user.L * (1.0 - albedo_p) / sigma\n",
    "        temp_e = Te_4**0.25\n",
    "        eta = user.R * user.L * user.S0 / (4.0 * sigma)\n",
    "        temp_b = (eta * (albedo_p - user.albedo_black) + Te_4)**0.25\n",
    "        temp_w = (eta * (albedo_p - user.albedo_white) + Te_4)**0.25\n",
    "        return (temp_w, temp_b, temp_e)\n",
    "\n",
    "    def derivs5(self, y, t):\n",
    "        \"\"\"y[0]=fraction white daisies\n",
    "           y[1]=fraction black daisies\n",
    "           no feedback between daisies and\n",
    "           albedo_p (set to ground albedo)\n",
    "        \"\"\"\n",
    "        temp_w, temp_b, temp_e = self.find_temp(y)\n",
    "\n",
    "        if (temp_b >= 277.5 and temp_b <= 312.5):\n",
    "            beta_b = 1.0 - 0.003265 * (295.0 - temp_b)**2.0\n",
    "        else:\n",
    "            beta_b = 0.0\n",
    "\n",
    "        if (temp_w >= 277.5 and temp_w <= 312.5):\n",
    "            beta_w = 1.0 - 0.003265 * (295.0 - temp_w)**2.0\n",
    "        else:\n",
    "            beta_w = 0.0\n",
    "        user = self.uservars\n",
    "        bare = 1.0 - y[0] - y[1]\n",
    "        # create a 1 x 2 element vector to hold the derivitive\n",
    "        f = np.empty_like(y)\n",
    "        f[0] = y[0] * (beta_w * bare - user.chi)\n",
    "        f[1] = y[1] * (beta_b * bare - user.chi)\n",
    "        return f"
   ]
  },
  {
   "cell_type": "code",
   "execution_count": 15,
   "metadata": {},
   "outputs": [
    {
     "ename": "ModuleNotFoundError",
     "evalue": "No module named 'pandas'",
     "output_type": "error",
     "traceback": [
      "\u001b[0;31m---------------------------------------------------------------------------\u001b[0m",
      "\u001b[0;31mModuleNotFoundError\u001b[0m                       Traceback (most recent call last)",
      "\u001b[0;32m/tmp/ipykernel_1651088/227635438.py\u001b[0m in \u001b[0;36m<module>\u001b[0;34m\u001b[0m\n\u001b[1;32m      1\u001b[0m \u001b[0;32mimport\u001b[0m \u001b[0mmatplotlib\u001b[0m\u001b[0;34m.\u001b[0m\u001b[0mpyplot\u001b[0m \u001b[0;32mas\u001b[0m \u001b[0mplt\u001b[0m\u001b[0;34m\u001b[0m\u001b[0;34m\u001b[0m\u001b[0m\n\u001b[0;32m----> 2\u001b[0;31m \u001b[0;32mimport\u001b[0m \u001b[0mpandas\u001b[0m \u001b[0;32mas\u001b[0m \u001b[0mpd\u001b[0m\u001b[0;34m\u001b[0m\u001b[0;34m\u001b[0m\u001b[0m\n\u001b[0m\u001b[1;32m      3\u001b[0m \u001b[0;34m\u001b[0m\u001b[0m\n\u001b[1;32m      4\u001b[0m \u001b[0mtheSolver\u001b[0m \u001b[0;34m=\u001b[0m \u001b[0mInteg54\u001b[0m\u001b[0;34m(\u001b[0m\u001b[0;34m'initial.yaml'\u001b[0m\u001b[0;34m)\u001b[0m\u001b[0;34m\u001b[0m\u001b[0;34m\u001b[0m\u001b[0m\n\u001b[1;32m      5\u001b[0m \u001b[0mtimevals\u001b[0m\u001b[0;34m,\u001b[0m \u001b[0myvals\u001b[0m\u001b[0;34m,\u001b[0m \u001b[0merrorlist\u001b[0m \u001b[0;34m=\u001b[0m \u001b[0mtheSolver\u001b[0m\u001b[0;34m.\u001b[0m\u001b[0mtimeloop5fixed\u001b[0m\u001b[0;34m(\u001b[0m\u001b[0;34m)\u001b[0m\u001b[0;34m\u001b[0m\u001b[0;34m\u001b[0m\u001b[0m\n",
      "\u001b[0;31mModuleNotFoundError\u001b[0m: No module named 'pandas'"
     ]
    }
   ],
   "source": [
    "import matplotlib.pyplot as plt\n",
    "import pandas as pd\n",
    "\n",
    "theSolver = Integ54('initial.yaml')\n",
    "timevals, yvals, errorlist = theSolver.timeloop5fixed()\n",
    "daisies = pd.DataFrame(yvals, columns=['white', 'black'])\n",
    "\n",
    "thefig, theAx = plt.subplots(1, 1)\n",
    "line1, = theAx.plot(timevals, daisies['white'])\n",
    "line2, = theAx.plot(timevals, daisies['black'])\n",
    "line1.set(linestyle='--', color='r', label='white')\n",
    "line2.set(linestyle='--', color='k', label='black')\n",
    "theAx.set_title('lab 5 interactive 4, initial conditions')\n",
    "theAx.set_xlabel('time')\n",
    "theAx.set_ylabel('fractional coverage')\n",
    "out = theAx.legend(loc='center right')"
   ]
  },
  {
   "cell_type": "markdown",
   "metadata": {},
   "source": [
    "<div id=\"prob_temperature\">**Problem Temperature**</div>\n",
    "\n",
    "The code above adds a new method, ```find_temp``` that takes the white/black daisy fractions and calculates local and planetary temperatures.\n",
    "\n",
    "1. override ```timeloop5fixed``` so that it saves these three temperatures, plus the daisy growth rates\n",
    "   to new variables in the Integ54 instance\n",
    "\n",
    "2. Make plots of (temp_w, temp_b) and (beta_w, beta_b) vs. time for a case with non-zero equilibrium\n",
    "   concentrations of both black and white daisies"
   ]
  },
  {
   "cell_type": "markdown",
   "metadata": {},
   "source": [
    "<a name=\"sec_adaptive\"></a>\n",
    "\n",
    "## Adaptive Stepsize in Runge-Kutta\n",
    "\n",
    "<a name=\"sec_adaptivewhy\"></a>\n",
    "\n",
    "### Why Adaptive Stepsize?\n",
    "\n",
    "As a rule of thumb, accuracy increases in Runge-Kutta methods as\n",
    "stepsize decreases. At the same time, the number of function evaluations\n",
    "performed increases. This tradeoff between accuracy of the solution and\n",
    "computational cost always exists, but in the ODE solution algorithms\n",
    "presented earlier it often appears to be unnecessarily large. To see\n",
    "this, consider the solution to a problem in two different time\n",
    "intervals. In the first one, the solution is close to steady, whereas in\n",
    "the second one it changes quickly. For acceptable accuracy with a\n",
    "non-adaptive method the step size will have to be adjusted so that the\n",
    "approximate solution is close to the actual solution in the second\n",
    "interval. The stepsize will be fairly small, so that the approximate\n",
    "solution is able to follow the changes in the solution here. However, as\n",
    "there is no change in stepsize throughout the solution process, the same\n",
    "step size will be applied to approximate the solution in the first time\n",
    "interval, where clearly a much larger stepsize would suffice to achieve\n",
    "the same accuracy. Thus, in a region where the solution behaves nicely a\n",
    "lot of function evaluations are wasted because the stepsize is chosen in\n",
    "accordance with the most quickly changing part of the solution.\n",
    "\n",
    "The way to address this problem is the use of adaptive stepsize control.\n",
    "This class of algorithms adjusts the stepsize taken in a time interval\n",
    "according to the properties of the solution in that interval, making it\n",
    "useful for producing a solution that has a given accuracy in the minimum\n",
    "number of steps.\n",
    "\n",
    "<a name=\"sec_design\"></a>\n",
    "\n",
    "### Designing Adaptive Stepsize Control\n",
    "\n",
    "Now that the goal is clear, the question remains of how to close in on\n",
    "it. As mentioned above, an adaptive algorithm is usually asked to solve\n",
    "a problem to a desired accuracy. To be able to adjust the stepsize in\n",
    "Runge-Kutta the algorithm must therefore calculate some estimate of how\n",
    "far its solution deviates from the actual solution. If with its initial\n",
    "stepsize this estimate is already well within the desired accuracy, the\n",
    "algorithm can proceed with a larger stepsize. If the error estimate is\n",
    "larger than the desired accuracy, the algorithm decreases the stepsize\n",
    "at this point and attempts to take a smaller step. Calculating this\n",
    "error estimate will always increase the amount of work done at a step\n",
    "compared to non-adaptive methods. Thus, the remaining problem is to\n",
    "devise a method of calculating this error estimate that is both\n",
    "inexpensive and accurate.\n",
    "\n",
    "<a name=\"sec_doubling\"></a>\n",
    "\n",
    "### Error Estimate by Step Doubling\n",
    "\n",
    "The first and simple approach to arriving at an error estimate is to\n",
    "simply take every step twice. The second time the step is divided up\n",
    "into two steps, producing a different estimate of the solution. The\n",
    "difference in the two solutions can be used to produce an estimate of\n",
    "the truncation error for this step.\n",
    "\n",
    "How expensive is this method to estimate the error? A single step of\n",
    "fourth order Runge-Kutta always takes four function evaluations. As the\n",
    "second time the step is taken in half-steps, it will take 8 evaluations.\n",
    "However, the first function evaluation in taking a step twice is\n",
    "identical to both steps, and thus the overall cost for one step with\n",
    "step doubling is $12 - 1 = 11$ function evaluations. This should be\n",
    "compared to taking two normal half-steps as this corresponds to the\n",
    "overall accuracy achieved. So we are looking at 3 function evaluations\n",
    "more per step, or an increase of computational cost by a factor of\n",
    "$1.375$.\n",
    "\n",
    "Step doubling works in practice, but the next section presents a slicker\n",
    "way of arriving at an error estimate that is less computationally\n",
    "expensive. It is the commmonly used one today.\n",
    "\n",
    "<a name=\"sec_embedded\"></a>\n",
    "\n",
    "### Error Estimate using Embedded Runge-Kutta\n",
    "\n",
    "Another way of estimating the truncation error of a step is due to the\n",
    "existence of the special fifth-order Runge-Kutta methods discussed\n",
    "earlier. These methods use six function evaluations which can be\n",
    "recombined to produce a fourth-order method . Again, the difference\n",
    "between the fifth and the fourth order solution is used to calculate an\n",
    "estimate of the truncation error. Obviously this method requires fewer\n",
    "function evaluations than step doubling, as the two estimates use the\n",
    "same evaluation points. Originally this method was found by Fehlberg,\n",
    "and later Cash and Karp produced the set of constants presented earlier\n",
    "that produce an efficient and accurate error estimate."
   ]
  },
  {
   "cell_type": "markdown",
   "metadata": {},
   "source": [
    "<div id=\"prob_estimate\">**Problem Estimate**</div>\n",
    "\n",
    "In the demo below, compare the error estimate to\n",
    "the true error, on the initial value problem from ,\n",
    "\n",
    "$$\\frac{dy}{dt} = -y +t +1,  \\;\\;\\;\\; y(0) =1$$\n",
    "\n",
    "which has the exact\n",
    "solution\n",
    "\n",
    "$$y(t) = t + e^{-t}$$\n",
    "\n",
    "1.  Play with the time step and final time, attempting small changes at\n",
    "    first. How reasonable is the error estimate?\n",
    "\n",
    "2.  Keep decreasing the time step. Does the error estimate diverge from\n",
    "    the computed error? Why?\n",
    "\n",
    "3.  Keep increasing the time step. Does the error estimate diverge? What\n",
    "    is happening with the numerical solution?"
   ]
  },
  {
   "cell_type": "code",
   "execution_count": null,
   "metadata": {},
   "outputs": [],
   "source": [
    "from numlabs.lab5.lab5_funs import Integrator\n",
    "\n",
    "\n",
    "class Integ55(Integrator):\n",
    "    def set_yinit(self):\n",
    "        #\n",
    "        # read in 'c1 c2 c3'\n",
    "        #\n",
    "        uservars = namedtuple('uservars', self.config['uservars'].keys())\n",
    "        self.uservars = uservars(**self.config['uservars'])\n",
    "        #\n",
    "        # read in initial yinit\n",
    "        #\n",
    "        initvars = namedtuple('initvars', self.config['initvars'].keys())\n",
    "        self.initvars = initvars(**self.config['initvars'])\n",
    "        self.yinit = np.array([self.initvars.yinit])\n",
    "        self.nvars = len(self.yinit)\n",
    "        return None\n",
    "\n",
    "    def __init__(self, coeff_file_name):\n",
    "        super().__init__(coeff_file_name)\n",
    "        self.set_yinit()\n",
    "\n",
    "    def derivs5(self, y, theTime):\n",
    "        \"\"\"\n",
    "           y[0]=fraction white daisies\n",
    "        \"\"\"\n",
    "        user = self.uservars\n",
    "        f = np.empty_like(self.yinit)\n",
    "        f[0] = user.c1 * y[0] + user.c2 * theTime + user.c3\n",
    "        return f"
   ]
  },
  {
   "cell_type": "code",
   "execution_count": null,
   "metadata": {},
   "outputs": [
    {
     "data": {
      "text/plain": [
       "Text(0.5, 1.0, 'lab 5 interactive 5 -- fixed errors')"
      ]
     },
     "execution_count": 9,
     "metadata": {},
     "output_type": "execute_result"
    },
    {
     "data": {
      "image/png": "[encoded data removed]",
      "text/plain": [
       "<Figure size 432x288 with 1 Axes>"
      ]
     },
     "metadata": {
      "needs_background": "light"
     },
     "output_type": "display_data"
    },
    {
     "data": {
      "image/png": "[encoded data removed]",
      "text/plain": [
       "<Figure size 432x288 with 1 Axes>"
      ]
     },
     "metadata": {
      "needs_background": "light"
     },
     "output_type": "display_data"
    },
    {
     "data": {
      "image/png": "[encoded data removed]",
      "text/plain": [
       "<Figure size 432x288 with 1 Axes>"
      ]
     },
     "metadata": {
      "needs_background": "light"
     },
     "output_type": "display_data"
    },
    {
     "data": {
      "image/png": "[encoded data removed]",
      "text/plain": [
       "<Figure size 432x288 with 1 Axes>"
      ]
     },
     "metadata": {
      "needs_background": "light"
     },
     "output_type": "display_data"
    }
   ],
   "source": [
    "import matplotlib.pyplot as plt\n",
    "\n",
    "theSolver = Integ55('expon.yaml')\n",
    "\n",
    "timeVals, yVals, yErrors = theSolver.timeloop5Err()\n",
    "timeVals = np.array(timeVals)\n",
    "exact = timeVals + np.exp(-timeVals)\n",
    "yVals = np.array(yVals)\n",
    "yVals = yVals.squeeze()\n",
    "yErrors = np.array(yErrors)\n",
    "\n",
    "thefig, theAx = plt.subplots(1, 1)\n",
    "line1 = theAx.plot(timeVals, yVals, label='adapt')\n",
    "line2 = theAx.plot(timeVals, exact, 'r+', label='exact')\n",
    "theAx.set_title('lab 5 interactive 5')\n",
    "theAx.set_xlabel('time')\n",
    "theAx.set_ylabel('y value')\n",
    "theAx.legend(loc='center right')\n",
    "\n",
    "#\n",
    "# we need to unpack yvals (a list of arrays of length 1\n",
    "# into an array of numbers using a list comprehension\n",
    "#\n",
    "\n",
    "thefig, theAx = plt.subplots(1, 1)\n",
    "realestError = yVals - exact\n",
    "actualErrorLine = theAx.plot(timeVals, realestError, label='actual error')\n",
    "estimatedErrorLine = theAx.plot(timeVals, yErrors, label='estimated error')\n",
    "theAx.legend(loc='best')\n",
    "\n",
    "timeVals, yVals, yErrors = theSolver.timeloop5fixed()\n",
    "\n",
    "np_yVals = np.array(yVals).squeeze()\n",
    "yErrors = np.array(yErrors)\n",
    "np_exact = timeVals + np.exp(-timeVals)\n",
    "\n",
    "thefig, theAx = plt.subplots(1, 1)\n",
    "line1 = theAx.plot(timeVals, np_yVals, label='fixed')\n",
    "line2 = theAx.plot(timeVals, np_exact, 'r+', label='exact')\n",
    "theAx.set_title('lab 5 interactive 5 -- fixed')\n",
    "theAx.set_xlabel('time')\n",
    "theAx.set_ylabel('y value')\n",
    "theAx.legend(loc='center right')\n",
    "\n",
    "thefig, theAx = plt.subplots(1, 1)\n",
    "realestError = np_yVals - np_exact\n",
    "actualErrorLine = theAx.plot(timeVals, realestError, label='actual error')\n",
    "estimatedErrorLine = theAx.plot(timeVals, yErrors, label='estimated error')\n",
    "theAx.legend(loc='best')\n",
    "theAx.set_title('lab 5 interactive 5 -- fixed errors')"
   ]
  },
  {
   "cell_type": "markdown",
   "metadata": {},
   "source": [
    "<a name=\"sec_adjust\"></a>\n",
    "\n",
    "###  Using Error to Adjust the Stepsize\n",
    "\n",
    "Both step doubling and embedded methods leave us with the difference\n",
    "between two different order solutions to the same step. Provided is a\n",
    "desired accuracy, $\\Delta_{des}$. The way this accuracy is specified\n",
    "depends on the problem. It can be relative to the solution at step $i$,\n",
    "\n",
    "$$\\Delta_{des}(i) = RTOL\\cdot |y(i)|$$\n",
    "\n",
    "where $RTOL$ is the relative\n",
    "tolerance desired. An absolute part should be added to this so that the\n",
    "desired accuracy does not become zero. There are more ways to adjust the\n",
    "error specification to the problem, but the overall goal of the\n",
    "algorithm always is to make $\\Delta_{est}(i)$, the estimated error for a\n",
    "step, satisfy\n",
    "\n",
    "$$|\\Delta_{est}(i)|\\leq\\Delta_{des}(i)|$$\n",
    "\n",
    "Note also that\n",
    "for a system of ODEs $\\Delta_{des}$ is of course a vector, and it is\n",
    "wise to replace the componentwise comparison by a vector norm.\n",
    "\n",
    "Note now that the calculated error term is $O(h^{5})$ as it was found as\n",
    "an error estimate to fourth-order Runge-Kutta methods. This makes it\n",
    "possible to scale the stepsize as\n",
    "\n",
    "<!-- \\label{lab5:eq:hnew} -->\n",
    "\n",
    "$$h_{new} = h_{old}[{\\Delta_{des}\\over \\Delta_{est}}]^{1/5}$$\n",
    "\n",
    "or,\n",
    "to give an example of the suggested use of vector norms above, the new\n",
    "stepsize is given by\n",
    "\n",
    "<!-- \\label{eq:hnewnorm} -->\n",
    "$$h_{new} = S h_{old}\\{[{1\\over N}\\sum_{i=1}^{N}({\\Delta_{est}(i)\\over \\Delta_{des}(i)})^{2}]^{1/2}\\}^{-1/5}\\}$$\n",
    "\n",
    "using the\n",
    "root-mean-square norm. $S$ appears as a safety factor ($0<S<1$) to\n",
    "counteract the inaccuracy in the use of estimates."
   ]
  },
  {
   "cell_type": "markdown",
   "metadata": {},
   "source": [
    "The coefficients for the adaptive tolerances are set in adaptvars section of adapt.yaml:\n",
    "\n",
    "```yaml\n",
    "adaptvars:\n",
    "  dtpassmin: 0.1\n",
    "  dtfailmax: 0.5\n",
    "  dtfailmin: 0.1\n",
    "  s: 0.9\n",
    "  rtol: 1.0e-05\n",
    "  atol: 1.0e-05\n",
    "  maxsteps: 2000.0\n",
    "  maxfail: 60.0\n",
    "  dtpassmax: 5.0\n",
    "```"
   ]
  },
  {
   "cell_type": "code",
   "execution_count": null,
   "metadata": {},
   "outputs": [
    {
     "data": {
      "image/png": "[encoded data removed]",
      "text/plain": [
       "<Figure size 432x288 with 1 Axes>"
      ]
     },
     "metadata": {
      "needs_background": "light"
     },
     "output_type": "display_data"
    }
   ],
   "source": [
    "import matplotlib.pyplot as plt\n",
    "import pandas as pd\n",
    "\n",
    "theSolver = Integ54('adapt.yaml')\n",
    "timeVals, yVals, errorList = theSolver.timeloop5Err()\n",
    "\n",
    "yvals = pd.DataFrame.from_records(yVals, columns=['white', 'black'])\n",
    "\n",
    "thefig, theAx = plt.subplots(1, 1)\n",
    "\n",
    "points, = theAx.plot(timeVals, yvals['white'], '-b+', label='white daisies')\n",
    "points.set_markersize(12)\n",
    "theLine1, = theAx.plot(timeVals, yvals['black'], '--ko', label='black daisies')\n",
    "theAx.set_title('lab 5 interactive 6')\n",
    "theAx.set_xlabel('time')\n",
    "theAx.set_ylabel('fractional coverage')\n",
    "out = theAx.legend(loc='best')\n",
    "\n",
    "# timeVals,yVals,errorList=theSolver.timeloop5fixed()\n",
    "# whiteDaisies=[frac[0] for frac in yVals]"
   ]
  },
  {
   "cell_type": "markdown",
   "metadata": {},
   "source": [
    "<div id=\"prob_tolerances\">**Problem Tolerances**</div>\n",
    "\n",
    "The Runge-Kutta algorithm with adaptive time\n",
    "steps will, in general, be more efficient and accurate than same\n",
    "algorithm with fixed time steps. In other words, greater accuracy can\n",
    "usually be achieved in fewer time steps. For the given set of Daisyworld\n",
    "parameters and initial conditions,\n",
    "\n",
    "1.  Decrease the error tolerances and compare the plots. You will note\n",
    "    that as the error tolerances are decreased, the plots approach the\n",
    "    one created by the algorithm with fixed time steps. What does this\n",
    "    imply?\n",
    "\n",
    "2.  Compare the Daisyworld plot to a plot of the stepsizes. Do you see a\n",
    "    correlation between stepsize and the shape of the curve?\n",
    "\n",
    "3.  Play with the tolerances and see if you can re-create (roughly) the\n",
    "    same plot but in fewer time steps."
   ]
  },
  {
   "cell_type": "markdown",
   "metadata": {},
   "source": [
    "<!-- {#lab5:sec:coding} -->\n",
    "\n",
    "<a name=\"sec_coding\"></a>\n",
    "\n",
    "## Coding Runge-Kutta Adaptive Stepsize Control\n",
    "\n",
    "The Runge-Kutta code developed in Lab 4 solves the given ODE system in\n",
    "fixed timesteps. It is now necessary to exert adaptive timestep control\n",
    "over the solution.  The python code for this is at given in\n",
    "[these lines](https://github.com/rhwhite/numeric_2022/blob/numlabs/lab5/lab5_funs.py#L145-L197)\n",
    "\n",
    "\n",
    "\n",
    "In principle, this is pretty simple:\n",
    "\n",
    "1.  As before, take a step specified by the Runge-Kutta algorithm.\n",
    "\n",
    "2.  Determine whether the estimated error lies within the user specified\n",
    "    tolerance\n",
    "\n",
    "3.  If the error is too large, calculate the new stepsize with\n",
    "    (\\ref{eq:hnewnorm}) and retake the step.\n",
    "\n",
    "This can be accomplished by writing a new [timeloop5Err](https://github.com/rhwhite/numeric_2022/blob/numlabs/lab5/lab5_funs.py#L115-L117)\n",
    "method which evaluates each Runge-Kutta step. This routine\n",
    "must now also return\n",
    "the estimate of the truncation error.\n",
    "\n",
    "In practice, it is prudent to take a number of safeguards. This involves\n",
    "defining a number of variables that place limits on the change in\n",
    "stepsize:\n",
    "\n",
    "-   A safety factor ($0<S<1$) is used when a new step is\n",
    "    calculated to further ensure that a small enough step is taken.\n",
    "\n",
    "-   When a step fails, i.e. the error bound equation is not satisfied,\n",
    "\n",
    "    -   *dtfailmin*: The new step must change by some minimum\n",
    "        factor.\n",
    "\n",
    "    -   *dtfailmax*: The step cannot change by more than some\n",
    "        maximum factor\n",
    "\n",
    "    -   *maxattempts*: A limit is placed on the number of\n",
    "        times a step is retried.\n",
    "\n",
    "    -   A check must be made to ensure that the new step is larger than\n",
    "        machine roundoff. (Check if $t+dt == t$.)\n",
    "\n",
    "-   When a step passes, i.e. equation (\\ref{eq:hnewnorm}) is\n",
    "    satisfied,\n",
    "\n",
    "    -   *dtpassmin*: The step is not changed unless it is by\n",
    "        some minimum factor.\n",
    "\n",
    "    -   *dtpassmax*: The step is not changed by more than some\n",
    "        maximum factor.\n",
    "\n",
    "The only remaining question is what to take for the initial step. In\n",
    "theory, any step can be taken and the stepper will adjust the step\n",
    "accordingly. In practice, if the step is too far off, and the error is\n",
    "much larger than the given tolerance, the stepper will have difficulty.\n",
    "So some care must be taken in choosing the initial step.\n",
    "\n",
    "Some safeguards can also be taken during the integration by defining,\n",
    "\n",
    "-   *dtmin*: A limit placed on the smallest possible\n",
    "    stepsize\n",
    "\n",
    "-   *maxsteps*: A limit placed on the total number of steps\n",
    "    taken.\n",
    "\n",
    "The Python code for the the adaptive stepsize control is discussed\n",
    "further in Appendix [Organization](#code_org)."
   ]
  },
  {
   "cell_type": "markdown",
   "metadata": {},
   "source": [
    "<div id=\"prob_adaptive\">**Problem adaptive**</div>\n",
    "\n",
    "The demos in the previous section, solved the\n",
    "Daisyworld equations using the embedded Runge-Kutta methods with\n",
    "adaptive timestep control.\n",
    "\n",
    "1.  Run the code and find solutions of Daisyworld with the default\n",
    "    settings found in adapt.yaml using the timeloop5Err adaptive\n",
    "    code\n",
    "\n",
    "2.  Find the solutions again but this time with fixed stepsizes and\n",
    "    compare the size of the timesteps and number of the timesteps.\n",
    "\n",
    "3.  How much faster does the fixed timeloop need to be to give the\n",
    "    same performance as the adaptive timeloop for this case?\n",
    "\n",
    "<a name=\"sec_steady\"></a>\n",
    "\n",
    "### Daisyworld Steady States\n",
    "\n",
    "We can now use the Runge-Kutta code with adaptive timestep control to\n",
    "find some steady states of Daisyworld by varying the luminosity $LS_0$ in the\n",
    "uservars section of adapt.yaml and recording the daisy fractions at the\n",
    "end of the integration. The code was used in the earlier\n",
    "sections to find some adhoc steady state solutions and the effect of\n",
    "altering some of the model parameters. What is of interest now is the\n",
    "effect of the daisy feedback on the range of parameter values for which\n",
    "non-zero steady states exist. That the feedback does have an effect on\n",
    "the steady states was readily seen in a [Problem initial](#prob_initial)\n",
    "\n",
    "If we fix all other Daisyworld parameters, we find that non-zero steady\n",
    "states will exist for a range of solar luminosities which we\n",
    "characterize by the parameter L. Recall, that L is the multiple of the\n",
    "solar constant $S_0$ that Daisyworld receives. What we will investigate\n",
    "in the next few sections is the effect of the daisy feedback on the\n",
    "range of L for which non-zero steady states can exist.\n",
    "\n",
    "We accomplish this by fixing the Daisyworld parameters and finding the\n",
    "resulting steady state daisy population for a given value of L. A plot\n",
    "is then made of the steady-state daisy populations versus various values\n",
    "of L.\n",
    "\n",
    "<a name=\"sec_neutral\"></a>\n",
    "\n",
    "###  Neutral Daisies\n",
    "\n",
    "The first case we consider is the case investigated in a previous demo\n",
    "where the albedo of the daisies and the ground are set to the same\n",
    "value. This means the daisy population has no effect on the planetary\n",
    "temperature, i.e. there is no feedback ([lab5:demo:coupling]).\n",
    "\n",
    "$~$"
   ]
  },
  {
   "cell_type": "markdown",
   "metadata": {},
   "source": [
    "Daisy fraction -- daisies have ground albedo\n",
    "<img src=\"images/steady_g.png\" width=\"40%\">"
   ]
  },
  {
   "cell_type": "markdown",
   "metadata": {},
   "source": [
    "Emission temperature\n",
    "<img src=\"images/temp_g.png\" width=\"40%\">"
   ]
  },
  {
   "cell_type": "markdown",
   "metadata": {},
   "source": [
    "<a name=\"sec_black\"></a>\n",
    "\n",
    "### Black Daisies\n",
    "\n",
    "Now consider a population of black daisies. Note the sharp jump in the\n",
    "graph when the first non-zero daisy steady states appear and the\n",
    "corresponding rise in the planetary temperature. The appearance of the\n",
    "black daisies results in a strong positive feedback on the temperature.\n",
    "Note as well that the graph drops back to zero at a lower value of L\n",
    "than in the case of neutral daisies."
   ]
  },
  {
   "cell_type": "markdown",
   "metadata": {},
   "source": [
    "Daisies darker than ground\n",
    "<img src=\"images/steady_b.png\" width=\"40%\">"
   ]
  },
  {
   "cell_type": "markdown",
   "metadata": {
    "lines_to_next_cell": 2
   },
   "source": [
    "Temperature\n",
    "<img src=\"images/temp_b.png\" width=\"40%\">"
   ]
  },
  {
   "cell_type": "markdown",
   "metadata": {},
   "source": [
    "<a name=\"sec_white\"></a>\n",
    "\n",
    "### White Daisies\n",
    "\n",
    "Consider now a population of purely white daisies. In this case there is\n",
    "an abrupt drop in the daisy steady state when it approaches zero with a\n",
    "corresponding jump in the emission temperature. Another interesting\n",
    "feature is the appearance of hysteresis. This arises since the plot of\n",
    "steady states is different when solar luminosity is lowered as opposed\n",
    "to being raised incrementally."
   ]
  },
  {
   "cell_type": "markdown",
   "metadata": {},
   "source": [
    "Daisies brighter than ground\n",
    "<img src=\"images/steady_w.png\" width=\"40%\">"
   ]
  },
  {
   "cell_type": "markdown",
   "metadata": {
    "lines_to_next_cell": 2
   },
   "source": [
    "Temperature\n",
    "<img src=\"images/temp_w.png\" width=\"40%\">"
   ]
  },
  {
   "cell_type": "markdown",
   "metadata": {
    "lines_to_next_cell": 2
   },
   "source": [
    "<a name=\"sec_blackwhite\"></a>\n",
    "\n",
    "### Black and White Daisies\n",
    "\n",
    "Finally, consider a population of both black and white daisies. This\n",
    "blends in features from the cases where the daisy population was purely\n",
    "white or black. Note how the appearance of a white daisy population\n",
    "initially causes the planetary temperature to actually drop even though\n",
    "the solar luminosity has been increased."
   ]
  },
  {
   "cell_type": "markdown",
   "metadata": {},
   "source": [
    "fraction of black and white daisies\n",
    "<img src=\"images/steady_bw.png\" width=\"40%\">"
   ]
  },
  {
   "cell_type": "markdown",
   "metadata": {},
   "source": [
    "note extended temperature range with stabilizing feedbacks\n",
    "<img src=\"images/temp_bw.png\" width=\"40%\">"
   ]
  },
  {
   "cell_type": "markdown",
   "metadata": {},
   "source": [
    "<a name=\"sec_conclusion\"></a>\n",
    "\n",
    "## Conclusion\n",
    "\n",
    "Black daisies can survive at lower mean temperatures than the white\n",
    "daisies and the reverse is true for white daisies. The end result is\n",
    "that the range of L for which the non-zero daisy steady states exist is\n",
    "greater than the case of neutral (or no) daisies . In other words, the\n",
    "feedback from the daisies provide a stabilizing effect that extends the\n",
    "set of environmental conditions in which life on Daisyworld can exist.\n",
    "\n",
    "<a name=\"prob_predator\"></a>\n",
    "\n",
    "**Problem Predator**: To make life a little more interesting on\n",
    "Daisyworld, add a population of rabbits that feed upon the daisies. The\n",
    "rabbit birth rate will be proportional to the area covered by the\n",
    "daisies while, conversely, the daisy *death rate* will be\n",
    "proportional to the rabbit population.\n",
    "\n",
    "Add another equation to the Daisyworld model which governs the rabbit\n",
    "population and make the appropriate modifications to the existing daisy\n",
    "equations. Modify the set of equations and solve it with the Runge-Kutta\n",
    "method with adaptive timesteps. Use it to look for steady states and to\n",
    "determine their dependence on the initial conditions and model\n",
    "parameters.\n",
    "\n",
    "Hand in notebook cells that:\n",
    "\n",
    "1.  Show your modified Daisyworld equations and your new integrator class.\n",
    "\n",
    "2.  At least one set of parameter values and initial conditions that\n",
    "    leads to the steady state and a plot of the timeseries for the daisies and rabbits.\n",
    "\n",
    "3.  A discussion of the steady state’s dependence on these values, i.e.\n",
    "    what happens when they are altered. Include a few plots for\n",
    "    illustration.\n",
    "\n",
    "4.  Does adding this feedback extend the range of habital L values  for which\n",
    "    non-zero populations exist?\n",
    "\n",
    "**Bonus:**: Now consider foxes that prey on rabbits but\n",
    "leave the daisies alone."
   ]
  },
  {
   "cell_type": "markdown",
   "metadata": {},
   "source": [
    "## Appendix: Note on Global Energy Balance\n",
    "\n",
    "The statement that the earth is in energy balance follows from the First\n",
    "Law of Thermodynamics, i.e.\n",
    "\n",
    "**The energy absorbed by an isolated system is equal to the\n",
    " change in the internal energy minus the work extracted**\n",
    "\n",
    "which itself is an expression of the conservation of energy.\n",
    "\n",
    "For the earth, the primary source of energy is radiation from the sun.\n",
    "The power emitted by the sun, known as the solar luminosity, is\n",
    "$L_0=3.9 \\times 10^{26}W$ while the energy flux  received at the\n",
    "mean distance of the earth from the sun ($1.5\\times 10^{11}m$) is called\n",
    "the solar constant, $S_0=1367\\ W m^{-2}$. For Daisy World the solar\n",
    "constant is taken to be $S_0=3668\\ W m^{-2}$.\n",
    "\n",
    "The emission temperature of a planet is the temperature the planet would\n",
    "be at if it emitted energy like a blackbody. A blackbody, so-called\n",
    "because it is a perfect absorber of radiation, obeys the\n",
    "Stefan-Boltzmann Law:\n",
    "\n",
    "<!-- \\label{lab5:stefan-boltzmann-law} -->\n",
    "\n",
    "\\textbf{eq: Stefan-Boltzman}\n",
    "$$ F_B\\ (Wm^{-2}) = \\sigma T^4_e$$\n",
    "\n",
    "  where $\\epsilon$ is the energy density and\n",
    "$\\sigma = 5.67\\times 10^{-8}Wm^{-2}K^{-4}$. Given the energy absorbed,\n",
    "it is easy to calculate the emission temperature $T_e$ with\n",
    "Stefan-Boltzman equation.\n",
    "\n",
    "In general, a planet will reflect some of the radiation it receives,\n",
    "with the fraction reflected known as the albedo $\\alpha_p$. So the total\n",
    "energy absorbed by the planet is actually flux density received times\n",
    "the fraction absorbed times the perpendicular area to the sun ( the\n",
    "’shadow area’), i.e.\n",
    "\n",
    "<!-- \\label{lab5:energyabsorbed} -->\n",
    "\n",
    "$$\n",
    "  E_{\\rm absorbed}=S_0(1-\\alpha_p)\\pi r_p^2$$\n",
    "\n",
    "where $r^2_p$ is the\n",
    "planet’s radius.\n",
    "\n",
    "If we still assume the planet emits like a blackbody, we can calculate\n",
    "the corresponding blackbody emission temperature. The total power\n",
    "emitted would be the flux $F_B$ of the blackbody times its\n",
    "surface area, i.e.\n",
    "\n",
    "<!-- \\label{lab5:energyemitted} -->\n",
    "\n",
    "$$\n",
    "   E_{\\rm blackbody} = \\sigma T^4_e 4\\pi  r_p^2$$\n",
    "\n",
    "Equating the energy absorbed with the energy emitted by a blackbody we\n",
    "can calculate the emission temperature,\n",
    "\n",
    "<!-- \\label{lab5:emissiontemp} -->\n",
    "\n",
    "$$\n",
    "   T^4_e = L \\frac{S_0}{4\\sigma}(1-\\alpha_p)$$\n",
    "\n",
    "\n",
    "\n",
    "## Summary: Daisy World Equations\n",
    "\n",
    "$$\\frac{dA_w}{dt} = A_w ( \\beta_w x - \\chi)$$\n",
    "\n",
    "$$\\frac{dA_b}{dt} = A_b ( \\beta_b x - \\chi)$$\n",
    "\n",
    "$$x = 1 - A_w - A_b$$\n",
    "\n",
    "$$\\beta_i = 1.0 - 0.003265(295.5 K -T_i)^2$$\n",
    "\n",
    "$$T^4_i = R L \\frac{S_0}{4\\sigma}(\\alpha_p-\\alpha_i) + T^4_e$$\n",
    "\n",
    "$$\\alpha_p = A_w\\alpha_w + A_b\\alpha_b + A_g\\alpha_g$$\n",
    "\n",
    "$$T^4_e = L \\frac{S_0}{4\\sigma}(1-\\alpha_p)$$"
   ]
  },
  {
   "cell_type": "markdown",
   "metadata": {
    "lines_to_next_cell": 0
   },
   "source": [
    "<div id=\"code_org\">"
   ]
  },
  {
   "cell_type": "markdown",
   "metadata": {},
   "source": [
    "## Appendix:  Organization of the adaptive Runge Kutta routines\n",
    "\n",
    "* The coding follows [Press et al.](adapt_ode.pdf), with the adaptive Runge Kutta defined\n",
    "  in the Integrator base class [here](https://github.com/rhwhite/numeric_2022/blob/numlabs/lab5/lab5_funs.py#L43-L59)\n",
    "\n",
    "* The step size choice is made in [timeloop5err](https://github.com/rhwhite/numeric_2022/blob/numlabs/lab5/lab5_funs.py#L115-L118)\n",
    "\n",
    "* To set up a specific problem, you need to overide two methods as demonstrated in the example code:\n",
    "the member function that initalizes the concentrations: [yinit](https://github.com/rhwhite/numeric_2022/blob/numlabs/lab5/lab5_funs.py#L115-L118) and the derivatives routine [derivs5](https://github.com/rhwhite/numeric_2022/blob/numlabs/lab5/lab5_funs.py#L66-L68)\n",
    "\n",
    "* In [Problem Initial](#prob_initial) we define a new member function:\n",
    "\n",
    "```python\n",
    "\n",
    "def find_temp(self, yvals):\n",
    "        \"\"\"\n",
    "            Calculate the temperatures over the white and black daisies\n",
    "            and the planetary equilibrium temperature given the daisy fractions\n",
    "\n",
    "            input:  yvals -- array of dimension [2] with the white [0] and black [1]\n",
    "                    daisy fraction\n",
    "            output:  white temperature (K), black temperature (K), equilibrium temperature (K)\n",
    "        \"\"\"\n",
    "```\n",
    "which give an example of how to use the instance variable data (self.uservars) in additional calculations."
   ]
  },
  {
   "cell_type": "markdown",
   "metadata": {},
   "source": [
    "## Appendix:  2 minute intro to object oriented programming\n",
    "\n",
    "For a very brief introduction to python classes take a look at [these scipy lecture notes](http://www.scipy-lectures.org/intro/language/oop.html)\n",
    "that define some of the basic concepts. For perhaps more detail than you want/need to know, see this 2 part\n",
    "series on [object oriented programming](https://realpython.com/python3-object-oriented-programming) and inheritence ([supercharge your classes with super()](https://realpython.com/python-super/))\n",
    "Briefly, we need a way to store a lot of information, for\n",
    "example the Runge-Kutta coefficients, in an organized way that is accessible to multiple functions,\n",
    "without having to pass all that information through the function arguments. Python solves this problem\n",
    "by putting both the data and the functions together into an class, as in the Integrator class below.\n",
    "\n"
   ]
  },
  {
   "cell_type": "markdown",
   "metadata": {
    "lines_to_next_cell": 2
   },
   "source": [
    "### Classes and constructors"
   ]
  },
  {
   "cell_type": "code",
   "execution_count": null,
   "metadata": {},
   "outputs": [],
   "source": [
    "class Integrator:\n",
    "    def __init__(self, first, second, third):\n",
    "        print('Constructing Integrator')\n",
    "        self.a = first\n",
    "        self.b = second\n",
    "        self.c = third\n",
    "\n",
    "    def dumpit(self, the_name):\n",
    "        printlist = [self.a, self.b, self.c]\n",
    "        print(f'dumping arguments for {the_name}: {printlist}')"
   ]
  },
  {
   "cell_type": "markdown",
   "metadata": {},
   "source": [
    "* ```__init__()``` is called the class constructor\n",
    "\n",
    "* a,b,c are called class attributes\n",
    "\n",
    "* ```dumpit()``` is called a member function or method\n",
    "\n",
    "* We construct and instance of the class by passing the required arguments to ```__init__```"
   ]
  },
  {
   "cell_type": "code",
   "execution_count": null,
   "metadata": {},
   "outputs": [
    {
     "name": "stdout",
     "output_type": "stream",
     "text": [
      "Constructing Integrator\n",
      "['__class__', '__delattr__', '__dict__', '__dir__', '__doc__', '__eq__', '__format__', '__ge__', '__getattribute__', '__gt__', '__hash__', '__init__', '__init_subclass__', '__le__', '__lt__', '__module__', '__ne__', '__new__', '__reduce__', '__reduce_ex__', '__repr__', '__setattr__', '__sizeof__', '__str__', '__subclasshook__', '__weakref__', 'a', 'b', 'c', 'dumpit']\n"
     ]
    }
   ],
   "source": [
    "the_integ = Integrator(1, 2, 3)\n",
    "print(dir(the_integ))\n",
    "#note that the_integ now has a, b, c, and dumpit"
   ]
  },
  {
   "cell_type": "markdown",
   "metadata": {},
   "source": [
    "* and we call the member function like this:"
   ]
  },
  {
   "cell_type": "code",
   "execution_count": null,
   "metadata": {},
   "outputs": [
    {
     "name": "stdout",
     "output_type": "stream",
     "text": [
      "dumping arguments for Demo object: [1, 2, 3]\n"
     ]
    }
   ],
   "source": [
    "the_integ.dumpit('Demo object')"
   ]
  },
  {
   "cell_type": "markdown",
   "metadata": {},
   "source": [
    "What does this buy us?  Member functions only need arguments specific to them, and can use any\n",
    "attribute or other member function attached to the self variable, which doesn't need to be\n",
    "part of the function call."
   ]
  },
  {
   "cell_type": "markdown",
   "metadata": {},
   "source": [
    "###  finding the attributes and methods of a class instance\n",
    "\n",
    "Python has a couple of functions that allow you to see the methods and\n",
    "attributes of objects\n",
    "\n",
    "To get a complete listing of builtin and user-defined methods and attributes use\n",
    "\n",
    "```\n",
    " dir\n",
    "```"
   ]
  },
  {
   "cell_type": "code",
   "execution_count": null,
   "metadata": {},
   "outputs": [
    {
     "data": {
      "text/plain": [
       "['__class__',\n",
       " '__delattr__',\n",
       " '__dict__',\n",
       " '__dir__',\n",
       " '__doc__',\n",
       " '__eq__',\n",
       " '__format__',\n",
       " '__ge__',\n",
       " '__getattribute__',\n",
       " '__gt__',\n",
       " '__hash__',\n",
       " '__init__',\n",
       " '__init_subclass__',\n",
       " '__le__',\n",
       " '__lt__',\n",
       " '__module__',\n",
       " '__ne__',\n",
       " '__new__',\n",
       " '__reduce__',\n",
       " '__reduce_ex__',\n",
       " '__repr__',\n",
       " '__setattr__',\n",
       " '__sizeof__',\n",
       " '__str__',\n",
       " '__subclasshook__',\n",
       " '__weakref__',\n",
       " 'a',\n",
       " 'b',\n",
       " 'c',\n",
       " 'dumpit']"
      ]
     },
     "execution_count": 14,
     "metadata": {},
     "output_type": "execute_result"
    }
   ],
   "source": [
    "dir(the_integ)"
   ]
  },
  {
   "cell_type": "markdown",
   "metadata": {},
   "source": [
    "To see just the attributes, use\n",
    "\n",
    "```\n",
    " vars\n",
    "```"
   ]
  },
  {
   "cell_type": "code",
   "execution_count": null,
   "metadata": {},
   "outputs": [
    {
     "data": {
      "text/plain": [
       "{'a': 1, 'b': 2, 'c': 3}"
      ]
     },
     "execution_count": 15,
     "metadata": {},
     "output_type": "execute_result"
    }
   ],
   "source": [
    "vars(the_integ)"
   ]
  },
  {
   "cell_type": "markdown",
   "metadata": {},
   "source": [
    "The inspect.getmembers function gives you everything as a list of (name,object) tuples\n",
    "so you can filter the items you're interested in.  See:\n",
    "\n",
    "https://docs.python.org/3/library/inspect.html"
   ]
  },
  {
   "cell_type": "code",
   "execution_count": null,
   "metadata": {},
   "outputs": [
    {
     "name": "stdout",
     "output_type": "stream",
     "text": [
      "methods for the_integ:  ['__init__', 'dumpit']\n"
     ]
    }
   ],
   "source": [
    "import inspect\n",
    "all_info_the_integ = inspect.getmembers(the_integ)\n",
    "only_methods = [\n",
    "    item[0] for item in all_info_the_integ if inspect.ismethod(item[1])\n",
    "]\n",
    "print('methods for the_integ: ', only_methods)"
   ]
  },
  {
   "cell_type": "markdown",
   "metadata": {},
   "source": [
    "### Inheritance"
   ]
  },
  {
   "cell_type": "markdown",
   "metadata": {
    "lines_to_next_cell": 2
   },
   "source": [
    "We can also specialize a class by driving from a base and then adding more data or members,\n",
    "or overriding existing values.  For example:"
   ]
  },
  {
   "cell_type": "code",
   "execution_count": null,
   "metadata": {},
   "outputs": [],
   "source": [
    "import numpy as np\n",
    "class Trig(Integrator):\n",
    "    \n",
    "    def __init__(self, one, two, three, four):\n",
    "        print('constructing Trig')\n",
    "        #\n",
    "        # first construct the base class\n",
    "        #\n",
    "        super().__init__(one, two, three)\n",
    "        self.d = four\n",
    "\n",
    "    def calc_trig(self):\n",
    "        self.trigval = np.sin(self.c * self.d)\n",
    "\n",
    "    def print_trig(self, the_date):\n",
    "        print(f'on {the_date} the value of sin(a*b)=: {self.trigval:5.3f}')\n",
    "\n"
   ]
  },
  {
   "cell_type": "code",
   "execution_count": null,
   "metadata": {},
   "outputs": [
    {
     "name": "stdout",
     "output_type": "stream",
     "text": [
      "constructing Trig\n",
      "Constructing Integrator\n",
      "on July 5 the value of sin(a*b)=: -0.537\n"
     ]
    }
   ],
   "source": [
    "sample = Trig(1, 2, 3, 4)\n",
    "sample.calc_trig()\n",
    "sample.print_trig('July 5')"
   ]
  },
  {
   "cell_type": "markdown",
   "metadata": {},
   "source": [
    "### Initializing using yaml\n",
    "\n",
    "To specify the intial values for the class, we use a plain text\n",
    "format called [yaml](http://www.yaml.org/spec/1.2/spec.html).  To write a yaml\n",
    "file, start with a dictionary that contains entries that are themselves dictionaries:"
   ]
  },
  {
   "cell_type": "code",
   "execution_count": null,
   "metadata": {},
   "outputs": [],
   "source": [
    "import yaml\n",
    "out_dict = dict()\n",
    "out_dict['vegetables'] = dict(carrots=5, eggplant=7, corn=2)\n",
    "out_dict['fruit'] = dict(apples='Out of season', strawberries=8)\n",
    "with open('groceries.yaml', 'w') as f:\n",
    "    yaml.safe_dump(out_dict, f)"
   ]
  },
  {
   "cell_type": "code",
   "execution_count": null,
   "metadata": {},
   "outputs": [
    {
     "name": "stdout",
     "output_type": "stream",
     "text": [
      "fruit:\n",
      "  apples: Out of season\n",
      "  strawberries: 8\n",
      "vegetables:\n",
      "  carrots: 5\n",
      "  corn: 2\n",
      "  eggplant: 7\n"
     ]
    }
   ],
   "source": [
    "#what's in the yaml file?\n",
    "#each toplevel dictionary key became a category\n",
    "import sys  #output to sys.stdout because print adds blank lines\n",
    "with open('groceries.yaml', 'r') as f:\n",
    "    for line in f.readlines():\n",
    "        sys.stdout.write(line)"
   ]
  },
  {
   "cell_type": "code",
   "execution_count": null,
   "metadata": {},
   "outputs": [
    {
     "name": "stdout",
     "output_type": "stream",
     "text": [
      "{'fruit': {'apples': 'Out of season', 'strawberries': 8}, 'vegetables': {'carrots': 5, 'corn': 2, 'eggplant': 7}}\n"
     ]
    }
   ],
   "source": [
    "#read into a dictionary\n",
    "with open('groceries.yaml', 'r') as f:\n",
    "    init_dict = yaml.safe_load(f)\n",
    "print(init_dict)"
   ]
  },
  {
   "cell_type": "markdown",
   "metadata": {},
   "source": [
    "<div id=\"sec_override\">\n",
    "\n",
    "### Overriding initial values in a derived class"
   ]
  },
  {
   "cell_type": "markdown",
   "metadata": {},
   "source": [
    "Suppose we want to change a value like the strength of the sun, $L$, after it's been\n",
    "read in from the initail yaml file?  Since a derived class can override the yinit function\n",
    "in the Integrator class, we are free to change it to overwrite any variable by reassigning\n",
    "the new value to self in the child constructor.\n",
    "\n",
    "Here's a simple example showing this kind of reinitialization:"
   ]
  },
  {
   "cell_type": "code",
   "execution_count": null,
   "metadata": {},
   "outputs": [],
   "source": [
    "import numpy as np\n",
    "\n",
    "\n",
    "class Base:\n",
    "    #\n",
    "    # this constructor is called first\n",
    "    #\n",
    "    def __init__(self, basevar):\n",
    "        self.L = basevar\n",
    "\n",
    "\n",
    "class Child(Base):\n",
    "    #\n",
    "    # this class changes the initialization\n",
    "    # to add a new variable\n",
    "    #\n",
    "    def __init__(self, a, L):\n",
    "        super().__init__(a)\n",
    "        #\n",
    "        # change the L in the child class\n",
    "        #\n",
    "        self.L = L"
   ]
  },
  {
   "cell_type": "markdown",
   "metadata": {},
   "source": [
    "Now we can use Child(a,Lval) to construct instances with any value of L we want:"
   ]
  },
  {
   "cell_type": "code",
   "execution_count": null,
   "metadata": {},
   "outputs": [
    {
     "name": "stdout",
     "output_type": "stream",
     "text": [
      "set L value in child class to   0\n",
      "set L value in child class to  10\n",
      "set L value in child class to  20\n",
      "set L value in child class to  30\n",
      "set L value in child class to  40\n",
      "set L value in child class to  50\n",
      "set L value in child class to  60\n",
      "set L value in child class to  70\n",
      "set L value in child class to  80\n",
      "set L value in child class to  90\n",
      "set L value in child class to 100\n"
     ]
    }
   ],
   "source": [
    "Lvals = np.linspace(0, 100, 11)\n",
    "\n",
    "#\n",
    "# now make 10 children, each with a different value of L\n",
    "#\n",
    "a = 5\n",
    "for theL in Lvals:\n",
    "    newItem = Child(a, theL)\n",
    "    print(f'set L value in child class to {newItem.L:3.0f}')"
   ]
  },
  {
   "cell_type": "markdown",
   "metadata": {},
   "source": [
    "To change L in the IntegCoupling class in [Problem Conduction](#prob_conduction) look at\n",
    "changing the value above these lines:"
   ]
  },
  {
   "cell_type": "markdown",
   "metadata": {},
   "source": [
    "```python\n",
    "initvars = namedtuple('initvars', self.config['initvars'].keys())\n",
    "self.initvars = initvars(**self.config['initvars'])\n",
    "```"
   ]
  },
  {
   "cell_type": "markdown",
   "metadata": {},
   "source": [
    "### Specific example\n",
    "\n",
    "So to use this technique for [Problem Conduction](#prob_conduction), override `set_yinit` so that\n",
    "it will take a new luminosity value newL, and add it to uservars, like this:\n",
    "\n",
    "```python\n",
    "class IntegCoupling(Integrator):\n",
    "    \"\"\"rewrite the set_yinit method\n",
    "       to work with luminosity\n",
    "    \"\"\"\n",
    "\n",
    "    def set_yinit(self, newL):\n",
    "        #\n",
    "        # change the luminocity\n",
    "        #\n",
    "        self.config[\"uservars\"][\"L\"] = newL # change solar incidence fraction\n",
    "        #\n",
    "        # make a new namedtuple factory called uservars that includes newL \n",
    "        #\n",
    "        uservars_fac = namedtuple('uservars', self.config['uservars'].keys())\n",
    "        #\n",
    "        # use the factory to make the augmented uservars named tuple\n",
    "        #\n",
    "        self.uservars = uservars_fac(**self.config['uservars'])\n",
    "        #\n",
    "\n",
    "\n",
    "    def __init__(self, coeffFileName, newL):\n",
    "       super().__init__(coeffFileName)\n",
    "       self.set_yinit(newL)\n",
    "       \n",
    "    ...\n",
    "```\n",
    "\n",
    "then construct a new instance with a value of newL like this:\n",
    "\n",
    "```python\n",
    "theSolver = IntegCoupling(\"coupling.yaml\", newL)\n",
    "```\n",
    "\n",
    "The IntegCoupling constructor first constructs an instance of the Integrator\n",
    "class by calling `super()` and passing it the name of the yaml file.  Once this\n",
    "is done then it\n",
    "calls the `IntegCoupling.set_yinit` method which takes the Integrator class instance\n",
    "(called \"self\" by convention) and modifies it by adding newL to the usersvars\n",
    "attribute.\n",
    "\n",
    "Try executing\n",
    "\n",
    "```python\n",
    "newL = 50\n",
    "theSolver = IntegCoupling(\"coupling.yaml\", newL)\n",
    "```\n",
    "\n",
    "and verify that:\n",
    "\n",
    "`theSolver.uservars.L`  is indeed 50\n",
    "\n",
    "#### Check your understanding\n",
    "\n",
    "To see if you're really getting the zeitgeist, try an alternative design where\n",
    "you leave the constructor as is, and instead add a new method called:\n",
    "\n",
    "```python\n",
    "def reset_L(self,newL)\n",
    "```\n",
    "\n",
    "so that you could do this:\n",
    "\n",
    "```python\n",
    "newL = 50\n",
    "theSolver = IntegCoupling(\"coupling.yaml\")\n",
    "theSolver.reset_L(newL)\n",
    "```\n",
    "\n",
    "and get `theSolver.uservars.L` set to 50."
   ]
  },
  {
   "cell_type": "markdown",
   "metadata": {},
   "source": [
    "### Why bother?\n",
    "\n",
    "What does object oriented programming buy us?  The dream was that companies/coders could ship\n",
    "standard base classes, thoroughly tested and documented, and then users could adapt those\n",
    "classes to their special needs using inheritence.  This turned out to be too ambitous,\n",
    "but a dialed-back version of this is definitely now part of many major programming languages."
   ]
  },
  {
   "cell_type": "code",
   "execution_count": null,
   "metadata": {},
   "outputs": [],
   "source": []
  }
 ],
 "metadata": {
  "jupytext": {
   "cell_metadata_filter": "all",
   "encoding": "# -*- coding: utf-8 -*-",
   "formats": "ipynb,py:percent",
   "notebook_metadata_filter": "all,-language_info,-toc,-latex_envs"
  },
  "kernelspec": {
   "display_name": "Python 3",
   "language": "python",
   "name": "python3"
  },
  "language_info": {
   "codemirror_mode": {
    "name": "ipython",
    "version": 3
   },
   "file_extension": ".py",
   "mimetype": "text/x-python",
   "name": "python",
   "nbconvert_exporter": "python",
   "pygments_lexer": "ipython3",
   "version": "3.10.1"
  },
  "latex_envs": {
   "LaTeX_envs_menu_present": true,
   "autoclose": false,
   "autocomplete": true,
   "bibliofile": "biblio.bib",
   "cite_by": "apalike",
   "current_citInitial": 1,
   "eqLabelWithNumbers": true,
   "eqNumInitial": 1,
   "hotkeys": {
    "equation": "meta-9"
   },
   "labels_anchors": false,
   "latex_user_defs": false,
   "report_style_numbering": false,
   "user_envs_cfg": false
  },
  "toc": {
   "base_numbering": 1,
   "nav_menu": {},
   "number_sections": false,
   "sideBar": true,
   "skip_h1_title": false,
   "title_cell": "Table of Contents",
   "title_sidebar": "Contents",
   "toc_cell": false,
   "toc_position": {
    "height": "679.091px",
    "left": "0px",
    "top": "66.2926px",
    "width": "207.145px"
   },
   "toc_section_display": "block",
   "toc_window_display": true
  }
 },
 "nbformat": 4,
 "nbformat_minor": 2
}
