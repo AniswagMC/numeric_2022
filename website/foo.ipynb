{
 "cells": [
  {
   "cell_type": "markdown",
   "id": "162a0d3e-92e8-4994-9de5-4d9f698492f2",
   "metadata": {},
   "source": [
    "# A Title\n",
    "\n",
    "for this notebook"
   ]
  },
  {
   "cell_type": "code",
   "execution_count": 1,
   "id": "7146f3a4-8105-4f1f-8184-265c98c6aa4c",
   "metadata": {},
   "outputs": [],
   "source": [
    "import numpy"
   ]
  }
 ],
 "metadata": {
  "kernelspec": {
   "display_name": "Python 3 (ipykernel)",
   "language": "python",
   "name": "python3"
  },
  "language_info": {
   "codemirror_mode": {
    "name": "ipython",
    "version": 3
   },
   "file_extension": ".py",
   "mimetype": "text/x-python",
   "name": "python",
   "nbconvert_exporter": "python",
   "pygments_lexer": "ipython3",
   "version": "3.10.1"
  }
 },
 "nbformat": 4,
 "nbformat_minor": 5
}
